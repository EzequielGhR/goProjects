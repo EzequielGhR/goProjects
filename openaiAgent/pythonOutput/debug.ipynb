{
 "cells": [
  {
   "cell_type": "markdown",
   "metadata": {},
   "source": [
    "# Outputs\n",
    "Required fixes, Some arrays had size 30, some 31 and GPT was convinced it was 40"
   ]
  },
  {
   "cell_type": "code",
   "execution_count": null,
   "metadata": {},
   "outputs": [],
   "source": [
    "import pandas as pd\n",
    "import matplotlib.pyplot as plt\n",
    "\n",
    "data = {\n",
    "    'Store_Number': [1320]*30,\n",
    "    'SKU_Coded': [6173050, 6174250, 6176200, 6176800, 6177250, 6177300, 6177350, 6177700, \n",
    "                  6178000, 6178250, 6179250, 6179300, 6179400, 6179450, 6179500, 6179750, \n",
    "                  6180550, 6182050, 6183750, 6184100, 6188550, 6190050, 6190150, 6190200, \n",
    "                  6190250, 6190350, 6190400, 6193750, 6195350, 6195800],\n",
    "    'Product_Class_Code': [22875, 22875, 22975, 22800, 22975, 22800, 22800, 22875, \n",
    "                           22875, 22800, 24400, 22800, 24400, 24400, 24400, 22800, \n",
    "                           22975, 22975, 22850, 22975, 22950, 24425, 24425, 24425, \n",
    "                           24425, 22950, 22950, 22875, 24375, 22850],\n",
    "    'Sold_Date': ['2021-11-01T00:00:00Z'] * 30,\n",
    "    'Qty_Sold': [1, 1, 2, 1, 1, 1, 2, 1, 2, 1, 1, 2, 2, 1, 1, 2, 1, 1, 3, 3, \n",
    "                 2, 5, 1, 1, 1, 1, 1, 1, 1, 1],\n",
    "    'Total_Sale_Value': [4.99, 0.89, 99.98, 14.97, 6.89, 9.99, 16.98, 3.19, \n",
    "                         6.38, 16.59, 14.99, 9.98, 29.98, 14.99, 14.99, 39.98, \n",
    "                         15.99, 7.99, 38.97, 59.97, 15.98, 19.95, 8.99, 8.99, \n",
    "                         7.99, 6.99, 6.99, 6.99, 16.99, 25.72],\n",
    "    'On_Promo': [0]*30\n",
    "}\n",
    "\n",
    "df = pd.DataFrame(data)\n",
    "sales_by_sku = df.groupby('SKU_Coded')['Total_Sale_Value'].sum().reset_index()\n",
    "\n",
    "plt.figure(figsize=(10,6))\n",
    "plt.bar(sales_by_sku['SKU_Coded'].astype(str), sales_by_sku['Total_Sale_Value'], color='blue')\n",
    "plt.title('Sales by Product SKU')\n",
    "plt.xlabel('SKU_Coded')\n",
    "plt.ylabel('Total_Sale_Value')\n",
    "plt.xticks(rotation=45)\n",
    "plt.tight_layout()\n",
    "plt.show()\n"
   ]
  },
  {
   "cell_type": "code",
   "execution_count": null,
   "metadata": {},
   "outputs": [],
   "source": [
    "import matplotlib.pyplot as plt\n",
    "\n",
    "# Data\n",
    "data = {\n",
    "    'Store_Number': [2420, 2310, 990, 1320, 4400, 2090, 1980, 1540, 3190, 3410],\n",
    "    'Total_Sale_Value': [903.19, 703.59, 603.79, 603.53, 539.94, 459.08, 434.11, 424.15, 409.18, 407.32]\n",
    "}\n",
    "\n",
    "# Create bar chart\n",
    "plt.figure(figsize=(10, 6))\n",
    "plt.bar(data['Store_Number'], data['Total_Sale_Value'], color='blue')\n",
    "\n",
    "# Title and labels\n",
    "plt.title('Top 10 Sales by Store in November 2021')\n",
    "plt.xlabel('Store Number')\n",
    "plt.ylabel('Total Sale Value')\n",
    "\n",
    "# Show the chart\n",
    "plt.xticks(data['Store_Number'])\n",
    "plt.show()\n"
   ]
  }
 ],
 "metadata": {
  "kernelspec": {
   "display_name": ".venv",
   "language": "python",
   "name": "python3"
  },
  "language_info": {
   "codemirror_mode": {
    "name": "ipython",
    "version": 3
   },
   "file_extension": ".py",
   "mimetype": "text/x-python",
   "name": "python",
   "nbconvert_exporter": "python",
   "pygments_lexer": "ipython3",
   "version": "3.12.2"
  }
 },
 "nbformat": 4,
 "nbformat_minor": 2
}
